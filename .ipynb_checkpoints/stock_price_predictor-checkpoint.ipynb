{
 "cells": [
  {
   "cell_type": "markdown",
   "id": "18d30860",
   "metadata": {},
   "source": [
    "## Importing the Libraries "
   ]
  },
  {
   "cell_type": "code",
   "execution_count": 3,
   "id": "44647b27",
   "metadata": {},
   "outputs": [
    {
     "name": "stdout",
     "output_type": "stream",
     "text": [
      "Collecting pandas-datareader\n",
      "  Downloading pandas_datareader-0.10.0-py3-none-any.whl (109 kB)\n",
      "                                              0.0/109.5 kB ? eta -:--:--\n",
      "     -------------------------------------- 109.5/109.5 kB 6.6 MB/s eta 0:00:00\n",
      "Requirement already satisfied: lxml in c:\\users\\neil rosario\\anaconda3\\lib\\site-packages (from pandas-datareader) (4.9.2)\n",
      "Requirement already satisfied: pandas>=0.23 in c:\\users\\neil rosario\\anaconda3\\lib\\site-packages (from pandas-datareader) (1.5.3)\n",
      "Requirement already satisfied: requests>=2.19.0 in c:\\users\\neil rosario\\anaconda3\\lib\\site-packages (from pandas-datareader) (2.29.0)\n",
      "Requirement already satisfied: python-dateutil>=2.8.1 in c:\\users\\neil rosario\\appdata\\roaming\\python\\python311\\site-packages (from pandas>=0.23->pandas-datareader) (2.8.2)\n",
      "Requirement already satisfied: pytz>=2020.1 in c:\\users\\neil rosario\\anaconda3\\lib\\site-packages (from pandas>=0.23->pandas-datareader) (2022.7)\n",
      "Requirement already satisfied: numpy>=1.21.0 in c:\\users\\neil rosario\\anaconda3\\lib\\site-packages (from pandas>=0.23->pandas-datareader) (1.24.3)\n",
      "Requirement already satisfied: charset-normalizer<4,>=2 in c:\\users\\neil rosario\\anaconda3\\lib\\site-packages (from requests>=2.19.0->pandas-datareader) (2.0.4)\n",
      "Requirement already satisfied: idna<4,>=2.5 in c:\\users\\neil rosario\\anaconda3\\lib\\site-packages (from requests>=2.19.0->pandas-datareader) (3.4)\n",
      "Requirement already satisfied: urllib3<1.27,>=1.21.1 in c:\\users\\neil rosario\\anaconda3\\lib\\site-packages (from requests>=2.19.0->pandas-datareader) (1.26.16)\n",
      "Requirement already satisfied: certifi>=2017.4.17 in c:\\users\\neil rosario\\anaconda3\\lib\\site-packages (from requests>=2.19.0->pandas-datareader) (2023.5.7)\n",
      "Requirement already satisfied: six>=1.5 in c:\\users\\neil rosario\\appdata\\roaming\\python\\python311\\site-packages (from python-dateutil>=2.8.1->pandas>=0.23->pandas-datareader) (1.16.0)\n",
      "Installing collected packages: pandas-datareader\n",
      "Successfully installed pandas-datareader-0.10.0\n",
      "Note: you may need to restart the kernel to use updated packages.\n"
     ]
    }
   ],
   "source": [
    "pip install pandas-datareader"
   ]
  },
  {
   "cell_type": "code",
   "execution_count": 23,
   "id": "80a369ea",
   "metadata": {},
   "outputs": [
    {
     "name": "stdout",
     "output_type": "stream",
     "text": [
      "Collecting yfinance\n",
      "  Downloading yfinance-0.2.31-py2.py3-none-any.whl (65 kB)\n",
      "                                              0.0/65.6 kB ? eta -:--:--\n",
      "     ---------------------------------------- 65.6/65.6 kB ? eta 0:00:00\n",
      "Requirement already satisfied: pandas>=1.3.0 in c:\\users\\neil rosario\\anaconda3\\lib\\site-packages (from yfinance) (1.5.3)\n",
      "Requirement already satisfied: numpy>=1.16.5 in c:\\users\\neil rosario\\anaconda3\\lib\\site-packages (from yfinance) (1.24.3)\n",
      "Collecting requests>=2.31 (from yfinance)\n",
      "  Using cached requests-2.31.0-py3-none-any.whl (62 kB)\n",
      "Collecting multitasking>=0.0.7 (from yfinance)\n",
      "  Downloading multitasking-0.0.11-py3-none-any.whl (8.5 kB)\n",
      "Requirement already satisfied: lxml>=4.9.1 in c:\\users\\neil rosario\\anaconda3\\lib\\site-packages (from yfinance) (4.9.2)\n",
      "Requirement already satisfied: appdirs>=1.4.4 in c:\\users\\neil rosario\\anaconda3\\lib\\site-packages (from yfinance) (1.4.4)\n",
      "Requirement already satisfied: pytz>=2022.5 in c:\\users\\neil rosario\\anaconda3\\lib\\site-packages (from yfinance) (2022.7)\n",
      "Collecting frozendict>=2.3.4 (from yfinance)\n",
      "  Downloading frozendict-2.3.8-py311-none-any.whl (14 kB)\n",
      "Collecting peewee>=3.16.2 (from yfinance)\n",
      "  Downloading peewee-3.17.0.tar.gz (2.9 MB)\n",
      "                                              0.0/2.9 MB ? eta -:--:--\n",
      "     ------                                   0.5/2.9 MB 14.2 MB/s eta 0:00:01\n",
      "     -----------                              0.9/2.9 MB 9.2 MB/s eta 0:00:01\n",
      "     ----------------                         1.2/2.9 MB 9.5 MB/s eta 0:00:01\n",
      "     ---------------------                    1.6/2.9 MB 10.2 MB/s eta 0:00:01\n",
      "     -------------------------------          2.3/2.9 MB 9.9 MB/s eta 0:00:01\n",
      "     ---------------------------------------  2.9/2.9 MB 11.0 MB/s eta 0:00:01\n",
      "     ---------------------------------------- 2.9/2.9 MB 10.5 MB/s eta 0:00:00\n",
      "  Installing build dependencies: started\n",
      "  Installing build dependencies: finished with status 'done'\n",
      "  Getting requirements to build wheel: started\n",
      "  Getting requirements to build wheel: finished with status 'done'\n",
      "  Preparing metadata (pyproject.toml): started\n",
      "  Preparing metadata (pyproject.toml): finished with status 'done'\n",
      "Requirement already satisfied: beautifulsoup4>=4.11.1 in c:\\users\\neil rosario\\anaconda3\\lib\\site-packages (from yfinance) (4.12.2)\n",
      "Collecting html5lib>=1.1 (from yfinance)\n",
      "  Downloading html5lib-1.1-py2.py3-none-any.whl (112 kB)\n",
      "                                              0.0/112.2 kB ? eta -:--:--\n",
      "     ---------------------------------------- 112.2/112.2 kB ? eta 0:00:00\n",
      "Requirement already satisfied: soupsieve>1.2 in c:\\users\\neil rosario\\anaconda3\\lib\\site-packages (from beautifulsoup4>=4.11.1->yfinance) (2.4)\n",
      "Requirement already satisfied: six>=1.9 in c:\\users\\neil rosario\\appdata\\roaming\\python\\python311\\site-packages (from html5lib>=1.1->yfinance) (1.16.0)\n",
      "Requirement already satisfied: webencodings in c:\\users\\neil rosario\\anaconda3\\lib\\site-packages (from html5lib>=1.1->yfinance) (0.5.1)\n",
      "Requirement already satisfied: python-dateutil>=2.8.1 in c:\\users\\neil rosario\\appdata\\roaming\\python\\python311\\site-packages (from pandas>=1.3.0->yfinance) (2.8.2)\n",
      "Requirement already satisfied: charset-normalizer<4,>=2 in c:\\users\\neil rosario\\anaconda3\\lib\\site-packages (from requests>=2.31->yfinance) (2.0.4)\n",
      "Requirement already satisfied: idna<4,>=2.5 in c:\\users\\neil rosario\\anaconda3\\lib\\site-packages (from requests>=2.31->yfinance) (3.4)\n",
      "Requirement already satisfied: urllib3<3,>=1.21.1 in c:\\users\\neil rosario\\anaconda3\\lib\\site-packages (from requests>=2.31->yfinance) (1.26.16)\n",
      "Requirement already satisfied: certifi>=2017.4.17 in c:\\users\\neil rosario\\anaconda3\\lib\\site-packages (from requests>=2.31->yfinance) (2023.5.7)\n",
      "Building wheels for collected packages: peewee\n",
      "  Building wheel for peewee (pyproject.toml): started\n",
      "  Building wheel for peewee (pyproject.toml): finished with status 'done'\n",
      "  Created wheel for peewee: filename=peewee-3.17.0-py3-none-any.whl size=135766 sha256=e901e95001ec19657a4e33b5564978db91030c06673992d195a796d923455b6f\n",
      "  Stored in directory: c:\\users\\neil rosario\\appdata\\local\\pip\\cache\\wheels\\02\\20\\23\\74a10d0cd31f5d41c19b92ddf4c138ceff01b9f4675f19dbf5\n",
      "Successfully built peewee\n",
      "Installing collected packages: peewee, multitasking, requests, html5lib, frozendict, yfinance\n",
      "  Attempting uninstall: requests\n",
      "    Found existing installation: requests 2.29.0\n",
      "    Uninstalling requests-2.29.0:\n",
      "      Successfully uninstalled requests-2.29.0\n",
      "Successfully installed frozendict-2.3.8 html5lib-1.1 multitasking-0.0.11 peewee-3.17.0 requests-2.31.0 yfinance-0.2.31\n",
      "Note: you may need to restart the kernel to use updated packages.\n"
     ]
    },
    {
     "name": "stderr",
     "output_type": "stream",
     "text": [
      "ERROR: pip's dependency resolver does not currently take into account all the packages that are installed. This behaviour is the source of the following dependency conflicts.\n",
      "conda-repo-cli 1.0.41 requires requests_mock, which is not installed.\n",
      "transformers 2.1.1 requires sentencepiece, which is not installed.\n",
      "conda-repo-cli 1.0.41 requires clyent==1.2.1, but you have clyent 1.2.2 which is incompatible.\n",
      "conda-repo-cli 1.0.41 requires nbformat==5.4.0, but you have nbformat 5.7.0 which is incompatible.\n",
      "conda-repo-cli 1.0.41 requires requests==2.28.1, but you have requests 2.31.0 which is incompatible.\n",
      "spyder 5.4.3 requires jedi<0.19.0,>=0.17.2, but you have jedi 0.19.0 which is incompatible.\n"
     ]
    }
   ],
   "source": [
    "pip install yfinance"
   ]
  },
  {
   "cell_type": "code",
   "execution_count": 24,
   "id": "f0db86a1",
   "metadata": {},
   "outputs": [],
   "source": [
    "import numpy as np\n",
    "import matplotlib.pyplot as plt\n",
    "import pandas as pd\n",
    "import pandas_datareader as web\n",
    "import yfinance as yf\n",
    "import datetime as dt"
   ]
  },
  {
   "cell_type": "code",
   "execution_count": 25,
   "id": "a8bfd908",
   "metadata": {},
   "outputs": [],
   "source": [
    "from sklearn.preprocessing import MinMaxScaler\n",
    "from tensorflow.keras.layers import Dense,Dropout, LSTM\n",
    "from tensorflow.keras.models import Sequential"
   ]
  },
  {
   "cell_type": "markdown",
   "id": "d68da2b4",
   "metadata": {},
   "source": [
    "## Importing the Dataset"
   ]
  },
  {
   "cell_type": "code",
   "execution_count": 27,
   "id": "9346687e",
   "metadata": {},
   "outputs": [
    {
     "name": "stdout",
     "output_type": "stream",
     "text": [
      "[*********************100%%**********************]  1 of 1 completed\n"
     ]
    }
   ],
   "source": [
    "#load data\n",
    "company = 'META'\n",
    "start = dt.datetime(2012, 1, 1)\n",
    "end = dt.datetime(2020, 1, 1)\n",
    "#data = web.DataReader(company, 'yahoo', start, end)\n",
    "data = yf.download(company, start, end)"
   ]
  },
  {
   "cell_type": "markdown",
   "id": "0b26b067",
   "metadata": {},
   "source": [
    "## Preparing the Data "
   ]
  },
  {
   "cell_type": "code",
   "execution_count": 28,
   "id": "718effc5",
   "metadata": {},
   "outputs": [],
   "source": [
    "scaler = MinMaxScaler(feature_range=(0,1))\n",
    "scaled_data = scaler.fit_transform(data['Close'].values.reshape(-1,1))"
   ]
  },
  {
   "cell_type": "code",
   "execution_count": 29,
   "id": "3d94459a",
   "metadata": {},
   "outputs": [],
   "source": [
    "prediction_days = 60"
   ]
  },
  {
   "cell_type": "code",
   "execution_count": 30,
   "id": "fdf42777",
   "metadata": {},
   "outputs": [],
   "source": [
    "x_train = []\n",
    "y_train = []"
   ]
  },
  {
   "cell_type": "code",
   "execution_count": 31,
   "id": "b0dd3a78",
   "metadata": {},
   "outputs": [],
   "source": [
    "for x in range(prediction_days, len(scaled_data)):\n",
    "    x_train.append(scaled_data[x-prediction_days:x, 0])\n",
    "    y_train.append(scaled_data[x, 0])"
   ]
  },
  {
   "cell_type": "code",
   "execution_count": 32,
   "id": "dd1fb303",
   "metadata": {},
   "outputs": [],
   "source": [
    "x_train, y_train = np.array(x_train), np.array(y_train)\n",
    "x_train = np.reshape(x_train, (x_train.shape[0], x_train.shape[1], 1))"
   ]
  },
  {
   "cell_type": "markdown",
   "id": "1a148cb0",
   "metadata": {},
   "source": [
    "## Building the Model"
   ]
  },
  {
   "cell_type": "code",
   "execution_count": 33,
   "id": "110cebdf",
   "metadata": {},
   "outputs": [],
   "source": [
    "model = Sequential()"
   ]
  },
  {
   "cell_type": "code",
   "execution_count": 35,
   "id": "e84b9899",
   "metadata": {},
   "outputs": [],
   "source": [
    "model.add(LSTM(units=50, return_sequences=True, input_shape=(x_train.shape[1], 1)))\n",
    "model.add(Dropout(0.2))\n",
    "model.add(LSTM(units=50, return_sequences=True))\n",
    "model.add(Dropout(0.2))\n",
    "model.add(LSTM(units=50))\n",
    "model.add(Dropout(0.2))\n",
    "model.add(Dense(units=1)) #prediction of next stock price"
   ]
  },
  {
   "cell_type": "code",
   "execution_count": 36,
   "id": "6e6d2f1f",
   "metadata": {},
   "outputs": [
    {
     "name": "stdout",
     "output_type": "stream",
     "text": [
      "Epoch 1/25\n",
      "59/59 [==============================] - 7s 41ms/step - loss: 0.0257\n",
      "Epoch 2/25\n",
      "59/59 [==============================] - 2s 40ms/step - loss: 0.0046\n",
      "Epoch 3/25\n",
      "59/59 [==============================] - 2s 39ms/step - loss: 0.0043\n",
      "Epoch 4/25\n",
      "59/59 [==============================] - 2s 39ms/step - loss: 0.0038\n",
      "Epoch 5/25\n",
      "59/59 [==============================] - 2s 40ms/step - loss: 0.0036\n",
      "Epoch 6/25\n",
      "59/59 [==============================] - 2s 40ms/step - loss: 0.0032\n",
      "Epoch 7/25\n",
      "59/59 [==============================] - 2s 40ms/step - loss: 0.0033\n",
      "Epoch 8/25\n",
      "59/59 [==============================] - 2s 39ms/step - loss: 0.0031\n",
      "Epoch 9/25\n",
      "59/59 [==============================] - 2s 40ms/step - loss: 0.0034\n",
      "Epoch 10/25\n",
      "59/59 [==============================] - 2s 40ms/step - loss: 0.0030\n",
      "Epoch 11/25\n",
      "59/59 [==============================] - 2s 40ms/step - loss: 0.0028\n",
      "Epoch 12/25\n",
      "59/59 [==============================] - 2s 40ms/step - loss: 0.0029\n",
      "Epoch 13/25\n",
      "59/59 [==============================] - 2s 40ms/step - loss: 0.0028\n",
      "Epoch 14/25\n",
      "59/59 [==============================] - 2s 40ms/step - loss: 0.0032\n",
      "Epoch 15/25\n",
      "59/59 [==============================] - 2s 39ms/step - loss: 0.0024\n",
      "Epoch 16/25\n",
      "59/59 [==============================] - 2s 39ms/step - loss: 0.0030\n",
      "Epoch 17/25\n",
      "59/59 [==============================] - 2s 40ms/step - loss: 0.0024\n",
      "Epoch 18/25\n",
      "59/59 [==============================] - 2s 39ms/step - loss: 0.0023\n",
      "Epoch 19/25\n",
      "59/59 [==============================] - 2s 40ms/step - loss: 0.0023\n",
      "Epoch 20/25\n",
      "59/59 [==============================] - 2s 40ms/step - loss: 0.0024\n",
      "Epoch 21/25\n",
      "59/59 [==============================] - 2s 40ms/step - loss: 0.0022\n",
      "Epoch 22/25\n",
      "59/59 [==============================] - 2s 39ms/step - loss: 0.0022\n",
      "Epoch 23/25\n",
      "59/59 [==============================] - 2s 40ms/step - loss: 0.0021\n",
      "Epoch 24/25\n",
      "59/59 [==============================] - 2s 40ms/step - loss: 0.0020\n",
      "Epoch 25/25\n",
      "59/59 [==============================] - 2s 40ms/step - loss: 0.0021\n"
     ]
    },
    {
     "data": {
      "text/plain": [
       "<keras.src.callbacks.History at 0x217e75d4510>"
      ]
     },
     "execution_count": 36,
     "metadata": {},
     "output_type": "execute_result"
    }
   ],
   "source": [
    "model.compile(optimizer='adam', loss='mean_squared_error')\n",
    "model.fit(x_train, y_train, epochs=25, batch_size=32)"
   ]
  },
  {
   "cell_type": "markdown",
   "id": "b8f3d3be",
   "metadata": {},
   "source": [
    "## Testing the model accuracy"
   ]
  },
  {
   "cell_type": "code",
   "execution_count": 19,
   "id": "be428970",
   "metadata": {},
   "outputs": [],
   "source": [
    "test_start = dt.datetime(2020,1,1)\n",
    "test_end = dt.datetime.now()"
   ]
  },
  {
   "cell_type": "code",
   "execution_count": 37,
   "id": "5f08da52",
   "metadata": {},
   "outputs": [
    {
     "name": "stdout",
     "output_type": "stream",
     "text": [
      "[*********************100%%**********************]  1 of 1 completed\n"
     ]
    }
   ],
   "source": [
    "test_data = yf.download(company, test_start, test_end)\n",
    "actual_price = test_data['Close'].values"
   ]
  },
  {
   "cell_type": "code",
   "execution_count": 38,
   "id": "787f5efb",
   "metadata": {},
   "outputs": [],
   "source": [
    "total_dataset = pd.concat((data['Close'], test_data['Close']), axis=0)"
   ]
  },
  {
   "cell_type": "code",
   "execution_count": 40,
   "id": "3112972c",
   "metadata": {},
   "outputs": [],
   "source": [
    "model_inputs = total_dataset[len(total_dataset) - len(test_data) - prediction_days:].values\n",
    "model_inputs = model_inputs.reshape(-1,1)\n",
    "model_inputs = scaler.transform(model_inputs)"
   ]
  },
  {
   "cell_type": "markdown",
   "id": "407fcc27",
   "metadata": {},
   "source": [
    "## Making Prediction"
   ]
  },
  {
   "cell_type": "code",
   "execution_count": 41,
   "id": "d2ac2d1d",
   "metadata": {},
   "outputs": [],
   "source": [
    "x_test = []"
   ]
  },
  {
   "cell_type": "code",
   "execution_count": 42,
   "id": "12cb50a5",
   "metadata": {},
   "outputs": [],
   "source": [
    "for x in range(prediction_days, len(model_inputs)):\n",
    "    x_test.append(model_inputs[x-prediction_days:x, 0])"
   ]
  },
  {
   "cell_type": "code",
   "execution_count": 43,
   "id": "0704a742",
   "metadata": {},
   "outputs": [],
   "source": [
    "x_test = np.array(x_test)\n",
    "x_test = np.reshape(x_test,(x_test.shape[0], x_test.shape[1],1))"
   ]
  },
  {
   "cell_type": "code",
   "execution_count": 44,
   "id": "6696f259",
   "metadata": {},
   "outputs": [
    {
     "name": "stdout",
     "output_type": "stream",
     "text": [
      "31/31 [==============================] - 1s 16ms/step\n"
     ]
    }
   ],
   "source": [
    "predicted_prices = model.predict(x_test)\n",
    "predicted_prices = scaler.inverse_transform(predicted_prices)"
   ]
  },
  {
   "cell_type": "markdown",
   "id": "3a3dbdaa",
   "metadata": {},
   "source": [
    "## Ploting Test Predictions "
   ]
  },
  {
   "cell_type": "code",
   "execution_count": 46,
   "id": "879600de",
   "metadata": {},
   "outputs": [
    {
     "data": {
      "image/png": "[encoded data removed]",
      "text/plain": [
       "<Figure size 640x480 with 1 Axes>"
      ]
     },
     "metadata": {},
     "output_type": "display_data"
    }
   ],
   "source": [
    "plt.plot(actual_price, color = 'black', label=f\"Actual {company} Price\")\n",
    "plt.plot(predicted_prices, color = 'green', label=f\"Predicted {company} price\")\n",
    "plt.title(f\"{company} share price\")\n",
    "plt.xlabel('time')\n",
    "plt.ylabel(f\"{company} share price\")\n",
    "plt.legend()\n",
    "plt.show()"
   ]
  },
  {
   "cell_type": "markdown",
   "id": "6d775b5d",
   "metadata": {},
   "source": [
    "##  Predict next day"
   ]
  },
  {
   "cell_type": "code",
   "execution_count": 47,
   "id": "2a416e50",
   "metadata": {},
   "outputs": [
    {
     "name": "stdout",
     "output_type": "stream",
     "text": [
      "1/1 [==============================] - 1s 967ms/step\n",
      "Prediction: [[284.02066]]\n"
     ]
    }
   ],
   "source": [
    "real_data = [model_inputs[len(model_inputs) + 1 - prediction_days:len(model_inputs)]]\n",
    "real_data = np.array(real_data)\n",
    "real_data = np.reshape(real_data, (real_data.shape[0], real_data.shape[1],1))\n",
    "\n",
    "prediction = model.predict(real_data)\n",
    "prediction = scaler.inverse_transform(prediction)\n",
    "print(f\"Prediction: {prediction}\")"
   ]
  }
 ],
 "metadata": {
  "kernelspec": {
   "display_name": "Python 3 (ipykernel)",
   "language": "python",
   "name": "python3"
  },
  "language_info": {
   "codemirror_mode": {
    "name": "ipython",
    "version": 3
   },
   "file_extension": ".py",
   "mimetype": "text/x-python",
   "name": "python",
   "nbconvert_exporter": "python",
   "pygments_lexer": "ipython3",
   "version": "3.11.3"
  }
 },
 "nbformat": 4,
 "nbformat_minor": 5
}
